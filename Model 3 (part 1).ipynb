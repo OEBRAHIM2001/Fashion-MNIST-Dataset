{
 "cells": [
  {
   "cell_type": "markdown",
   "metadata": {},
   "source": [
    "# MODEL 3: CNN\n",
    "Omar Ebrahim & Kareem Eltouny"
   ]
  },
  {
   "cell_type": "markdown",
   "metadata": {},
   "source": [
    "STEP 1: Importing the libraries."
   ]
  },
  {
   "cell_type": "code",
   "execution_count": 21,
   "metadata": {},
   "outputs": [],
   "source": [
    "import time\n",
    "import numpy as np\n",
    "import seaborn as sns\n",
    "import pandas as pd\n",
    "import matplotlib.pyplot as plt\n",
    "from sklearn.model_selection import RandomizedSearchCV\n",
    "\n",
    "from sklearn.decomposition import PCA\n",
    "from sklearn.metrics import accuracy_score, f1_score, confusion_matrix, classification_report\n",
    "from tensorflow.keras.models import Sequential\n",
    "from tensorflow.keras.layers import Conv2D, MaxPooling2D, Dense, Flatten, Dropout\n",
    "from keras import Input"
   ]
  },
  {
   "cell_type": "markdown",
   "metadata": {},
   "source": [
    "STEP 2: Importing the dataset & splitting them to training and testing."
   ]
  },
  {
   "cell_type": "code",
   "execution_count": 22,
   "metadata": {},
   "outputs": [
    {
     "data": {
      "text/plain": [
       "(60000, 28, 28, 1)"
      ]
     },
     "execution_count": 22,
     "metadata": {},
     "output_type": "execute_result"
    }
   ],
   "source": [
    "fashionTrain = pd.read_csv(\"fashion-mnist_train.csv\")\n",
    "fashionTest = pd.read_csv(\"fashion-mnist_test.csv\")\n",
    "\n",
    "# The splitting was done without a library instead of using the train test split function.\n",
    "# This is due to us reading from 2 separate CSV files.\n",
    "X_train = fashionTrain.iloc[:, 1:]\n",
    "y_train = fashionTrain.iloc[:, 0]\n",
    "X_test = fashionTest.iloc[:, 1:]\n",
    "y_test = fashionTest.iloc[:, 0]\n",
    "\n",
    "X_train = np.array(X_train)\n",
    "X_test = np.array(X_test)\n",
    "X_train = X_train.reshape((-1, 28, 28, 1))\n",
    "X_test = X_test.reshape((-1, 28, 28, 1))\n",
    "\n",
    "X_train.shape"
   ]
  },
  {
   "cell_type": "markdown",
   "metadata": {},
   "source": [
    "STEP 3: Pre-Processing Part 1: Normalization "
   ]
  },
  {
   "cell_type": "code",
   "execution_count": 23,
   "metadata": {},
   "outputs": [],
   "source": [
    "# Pixels are in range 0 to 255.\n",
    "# The range that a single 8-bit byte can offer.\n",
    "# We normalized X and y as ‘float32’, which means that it is of single precision and cuts the memory in half.\n",
    "X_train = X_train.astype('float32')\n",
    "X_test = X_test.astype('float32')\n",
    "# They need to be scaled down to [0,1] in order for Optimization Algorithms to work much faster. \n",
    "X_train /= 255.0\n",
    "X_test /=255.0"
   ]
  },
  {
   "cell_type": "markdown",
   "metadata": {},
   "source": [
    "STEP 6: Training the CNN Model and trying different models for hyparameter tuning"
   ]
  },
  {
   "cell_type": "code",
   "execution_count": 5,
   "metadata": {},
   "outputs": [],
   "source": [
    "# Creating the sequential model.\n",
    "model = Sequential()\n",
    "# Input layer with a shape of (28, 28, 1) which is addressing grayscale image.\n",
    "model.add(Input(shape=(28, 28, 1)))\n",
    "# Convolutional layer with 32 filters, a kernel size of (3, 3).\n",
    "model.add(Conv2D(filters=32,\n",
    "                 kernel_size=(3, 3),\n",
    "                 activation='relu',\n",
    "                 padding='valid',\n",
    "                 strides=(1, 1)))\n",
    "# MaxPooling layer with a pool size of (2, 2) to down-sample any spatial dimensions.\n",
    "model.add(MaxPooling2D(pool_size=(2, 2)))\n",
    "# Convolutional layer with 64 filters, a kernel size of (3, 3),\n",
    "# ReLU activation, valid padding, and stride of (1, 1)\n",
    "model.add(Conv2D(filters=64,\n",
    "                 kernel_size=(3, 3),\n",
    "                 activation='relu',\n",
    "                 padding='valid',\n",
    "                 strides=(1, 1)))\n",
    "model.add(MaxPooling2D())\n",
    "model.add(Flatten())\n",
    "# Dropout rate of 0.5 to prevent overfitting.\n",
    "model.add(Dropout(0.5))\n",
    "# Softmax activation used for multi-class classification.\n",
    "model.add(Dense(10, activation='softmax'))\n",
    "model.summary()"
   ]
  },
  {
   "cell_type": "code",
   "execution_count": 6,
   "metadata": {},
   "outputs": [
    {
     "name": "stdout",
     "output_type": "stream",
     "text": [
      "WARNING:tensorflow:From c:\\Users\\karee\\anaconda3\\Lib\\site-packages\\keras\\src\\optimizers\\__init__.py:309: The name tf.train.Optimizer is deprecated. Please use tf.compat.v1.train.Optimizer instead.\n",
      "\n",
      "Epoch 1/50\n",
      "WARNING:tensorflow:From c:\\Users\\karee\\anaconda3\\Lib\\site-packages\\keras\\src\\utils\\tf_utils.py:492: The name tf.ragged.RaggedTensorValue is deprecated. Please use tf.compat.v1.ragged.RaggedTensorValue instead.\n",
      "\n",
      "WARNING:tensorflow:From c:\\Users\\karee\\anaconda3\\Lib\\site-packages\\keras\\src\\engine\\base_layer_utils.py:384: The name tf.executing_eagerly_outside_functions is deprecated. Please use tf.compat.v1.executing_eagerly_outside_functions instead.\n",
      "\n",
      "891/891 [==============================] - 16s 16ms/step - loss: 0.6129 - accuracy: 0.7752 - val_loss: 0.4277 - val_accuracy: 0.8490\n",
      "Epoch 2/50\n",
      "891/891 [==============================] - 15s 16ms/step - loss: 0.4242 - accuracy: 0.8476 - val_loss: 0.3619 - val_accuracy: 0.8743\n",
      "Epoch 3/50\n",
      "891/891 [==============================] - 15s 17ms/step - loss: 0.3827 - accuracy: 0.8633 - val_loss: 0.3480 - val_accuracy: 0.8750\n",
      "Epoch 4/50\n",
      "891/891 [==============================] - 14s 16ms/step - loss: 0.3513 - accuracy: 0.8729 - val_loss: 0.3095 - val_accuracy: 0.8900\n",
      "Epoch 5/50\n",
      "891/891 [==============================] - 14s 15ms/step - loss: 0.3378 - accuracy: 0.8788 - val_loss: 0.3177 - val_accuracy: 0.8870\n",
      "Epoch 6/50\n",
      "891/891 [==============================] - 15s 16ms/step - loss: 0.3188 - accuracy: 0.8847 - val_loss: 0.2849 - val_accuracy: 0.8973\n",
      "Epoch 7/50\n",
      "891/891 [==============================] - 14s 16ms/step - loss: 0.3076 - accuracy: 0.8876 - val_loss: 0.2835 - val_accuracy: 0.8947\n",
      "Epoch 8/50\n",
      "891/891 [==============================] - 14s 16ms/step - loss: 0.2990 - accuracy: 0.8914 - val_loss: 0.2699 - val_accuracy: 0.8983\n",
      "Epoch 9/50\n",
      "891/891 [==============================] - 15s 17ms/step - loss: 0.2861 - accuracy: 0.8961 - val_loss: 0.2738 - val_accuracy: 0.8973\n",
      "Epoch 10/50\n",
      "891/891 [==============================] - 15s 16ms/step - loss: 0.2812 - accuracy: 0.8972 - val_loss: 0.2704 - val_accuracy: 0.9007\n",
      "Epoch 11/50\n",
      "891/891 [==============================] - 14s 16ms/step - loss: 0.2761 - accuracy: 0.8986 - val_loss: 0.2732 - val_accuracy: 0.8893\n",
      "Epoch 12/50\n",
      "891/891 [==============================] - 13s 14ms/step - loss: 0.2722 - accuracy: 0.9002 - val_loss: 0.2602 - val_accuracy: 0.9053\n",
      "Epoch 13/50\n",
      "891/891 [==============================] - 12s 14ms/step - loss: 0.2659 - accuracy: 0.9033 - val_loss: 0.2553 - val_accuracy: 0.9060\n",
      "Epoch 14/50\n",
      "891/891 [==============================] - 12s 13ms/step - loss: 0.2618 - accuracy: 0.9044 - val_loss: 0.2674 - val_accuracy: 0.9023\n",
      "Epoch 15/50\n",
      "891/891 [==============================] - 12s 13ms/step - loss: 0.2603 - accuracy: 0.9052 - val_loss: 0.2478 - val_accuracy: 0.9087\n",
      "Epoch 16/50\n",
      "891/891 [==============================] - 12s 13ms/step - loss: 0.2539 - accuracy: 0.9072 - val_loss: 0.2436 - val_accuracy: 0.9120\n",
      "Epoch 17/50\n",
      "891/891 [==============================] - 12s 13ms/step - loss: 0.2516 - accuracy: 0.9076 - val_loss: 0.2586 - val_accuracy: 0.9057\n",
      "Epoch 18/50\n",
      "891/891 [==============================] - 13s 14ms/step - loss: 0.2463 - accuracy: 0.9098 - val_loss: 0.2548 - val_accuracy: 0.9070\n",
      "Epoch 19/50\n",
      "891/891 [==============================] - 12s 13ms/step - loss: 0.2478 - accuracy: 0.9086 - val_loss: 0.2564 - val_accuracy: 0.9057\n",
      "Epoch 20/50\n",
      "891/891 [==============================] - 12s 13ms/step - loss: 0.2448 - accuracy: 0.9103 - val_loss: 0.2414 - val_accuracy: 0.9133\n",
      "Epoch 21/50\n",
      "891/891 [==============================] - 12s 13ms/step - loss: 0.2415 - accuracy: 0.9114 - val_loss: 0.2368 - val_accuracy: 0.9130\n",
      "Epoch 22/50\n",
      "891/891 [==============================] - 12s 13ms/step - loss: 0.2379 - accuracy: 0.9117 - val_loss: 0.2440 - val_accuracy: 0.9113\n",
      "Epoch 23/50\n",
      "891/891 [==============================] - 12s 13ms/step - loss: 0.2352 - accuracy: 0.9129 - val_loss: 0.2440 - val_accuracy: 0.9090\n",
      "Epoch 24/50\n",
      "891/891 [==============================] - 12s 14ms/step - loss: 0.2337 - accuracy: 0.9136 - val_loss: 0.2389 - val_accuracy: 0.9127\n",
      "Epoch 25/50\n",
      "891/891 [==============================] - 12s 14ms/step - loss: 0.2313 - accuracy: 0.9135 - val_loss: 0.2390 - val_accuracy: 0.9140\n",
      "Epoch 26/50\n",
      "891/891 [==============================] - 12s 13ms/step - loss: 0.2297 - accuracy: 0.9148 - val_loss: 0.2406 - val_accuracy: 0.9127\n",
      "Epoch 27/50\n",
      "891/891 [==============================] - 12s 13ms/step - loss: 0.2267 - accuracy: 0.9170 - val_loss: 0.2330 - val_accuracy: 0.9167\n",
      "Epoch 28/50\n",
      "891/891 [==============================] - 12s 13ms/step - loss: 0.2255 - accuracy: 0.9162 - val_loss: 0.2365 - val_accuracy: 0.9110\n",
      "Epoch 29/50\n",
      "891/891 [==============================] - 12s 13ms/step - loss: 0.2249 - accuracy: 0.9162 - val_loss: 0.2414 - val_accuracy: 0.9107\n",
      "Epoch 30/50\n",
      "891/891 [==============================] - 12s 13ms/step - loss: 0.2234 - accuracy: 0.9178 - val_loss: 0.2288 - val_accuracy: 0.9177\n",
      "Epoch 31/50\n",
      "891/891 [==============================] - 12s 14ms/step - loss: 0.2208 - accuracy: 0.9173 - val_loss: 0.2400 - val_accuracy: 0.9180\n",
      "Epoch 32/50\n",
      "891/891 [==============================] - 12s 14ms/step - loss: 0.2190 - accuracy: 0.9190 - val_loss: 0.2456 - val_accuracy: 0.9130\n",
      "Epoch 33/50\n",
      "891/891 [==============================] - 12s 13ms/step - loss: 0.2164 - accuracy: 0.9197 - val_loss: 0.2348 - val_accuracy: 0.9150\n",
      "Epoch 34/50\n",
      "891/891 [==============================] - 12s 13ms/step - loss: 0.2170 - accuracy: 0.9206 - val_loss: 0.2395 - val_accuracy: 0.9123\n",
      "Epoch 35/50\n",
      "891/891 [==============================] - 12s 13ms/step - loss: 0.2153 - accuracy: 0.9211 - val_loss: 0.2366 - val_accuracy: 0.9163\n",
      "Epoch 36/50\n",
      "891/891 [==============================] - 12s 13ms/step - loss: 0.2155 - accuracy: 0.9195 - val_loss: 0.2381 - val_accuracy: 0.9113\n",
      "Epoch 37/50\n",
      "891/891 [==============================] - 12s 14ms/step - loss: 0.2149 - accuracy: 0.9199 - val_loss: 0.2318 - val_accuracy: 0.9167\n",
      "Epoch 38/50\n",
      "891/891 [==============================] - 12s 14ms/step - loss: 0.2129 - accuracy: 0.9207 - val_loss: 0.2320 - val_accuracy: 0.9163\n",
      "Epoch 39/50\n",
      "891/891 [==============================] - 12s 13ms/step - loss: 0.2111 - accuracy: 0.9215 - val_loss: 0.2356 - val_accuracy: 0.9147\n",
      "Epoch 40/50\n",
      "891/891 [==============================] - 12s 13ms/step - loss: 0.2105 - accuracy: 0.9218 - val_loss: 0.2328 - val_accuracy: 0.9190\n",
      "Epoch 41/50\n",
      "891/891 [==============================] - 12s 13ms/step - loss: 0.2098 - accuracy: 0.9234 - val_loss: 0.2402 - val_accuracy: 0.9103\n",
      "Epoch 42/50\n",
      "891/891 [==============================] - 12s 13ms/step - loss: 0.2041 - accuracy: 0.9247 - val_loss: 0.2343 - val_accuracy: 0.9180\n",
      "Epoch 43/50\n",
      "891/891 [==============================] - 12s 13ms/step - loss: 0.2054 - accuracy: 0.9244 - val_loss: 0.2322 - val_accuracy: 0.9213\n",
      "Epoch 44/50\n",
      "891/891 [==============================] - 13s 14ms/step - loss: 0.2049 - accuracy: 0.9233 - val_loss: 0.2363 - val_accuracy: 0.9163\n",
      "Epoch 45/50\n",
      "891/891 [==============================] - 12s 13ms/step - loss: 0.2050 - accuracy: 0.9233 - val_loss: 0.2430 - val_accuracy: 0.9167\n",
      "Epoch 46/50\n",
      "891/891 [==============================] - 12s 13ms/step - loss: 0.2044 - accuracy: 0.9238 - val_loss: 0.2340 - val_accuracy: 0.9157\n",
      "Epoch 47/50\n",
      "891/891 [==============================] - 16s 18ms/step - loss: 0.2029 - accuracy: 0.9252 - val_loss: 0.2363 - val_accuracy: 0.9157\n",
      "Epoch 48/50\n",
      "891/891 [==============================] - 14s 16ms/step - loss: 0.2008 - accuracy: 0.9252 - val_loss: 0.2393 - val_accuracy: 0.9167\n",
      "Epoch 49/50\n",
      "891/891 [==============================] - 21s 23ms/step - loss: 0.1989 - accuracy: 0.9257 - val_loss: 0.2493 - val_accuracy: 0.9070\n",
      "Epoch 50/50\n",
      "891/891 [==============================] - 13s 14ms/step - loss: 0.1984 - accuracy: 0.9260 - val_loss: 0.2458 - val_accuracy: 0.9127\n"
     ]
    }
   ],
   "source": [
    "# model 1 with epochs 50 , batch_size = 64\n",
    "model1.compile(loss='sparse_categorical_crossentropy',\n",
    "              optimizer='adam',\n",
    "              metrics=['accuracy'])\n",
    "model1.fit(X_train, y_train, epochs=50, batch_size=64, validation_split=0.05)"
   ]
  },
  {
   "cell_type": "code",
   "execution_count": 15,
   "metadata": {},
   "outputs": [],
   "source": [
    "# creating the third model\n",
    "model2 = Sequential()\n",
    "\n",
    "model2.add(Input(shape=(28, 28, 1)))\n",
    "model2.add(Conv2D(filters=32, kernel_size=(3, 3), activation='relu', padding='valid', strides=(1, 1)))\n",
    "model2.add(MaxPooling2D(pool_size=(2, 2)))\n",
    "model2.add(Conv2D(filters=64, kernel_size=(3, 3), activation='relu', padding='valid', strides=(1, 1)))\n",
    "model2.add(MaxPooling2D())\n",
    "model2.add(Flatten())\n",
    "model2.add(Dropout(0.5))\n",
    "model2.add(Dense(10, activation='softmax'))"
   ]
  },
  {
   "cell_type": "code",
   "execution_count": 16,
   "metadata": {},
   "outputs": [
    {
     "name": "stdout",
     "output_type": "stream",
     "text": [
      "Epoch 1/100\n",
      "1782/1782 [==============================] - 15s 8ms/step - loss: 0.5634 - accuracy: 0.7937 - val_loss: 0.4008 - val_accuracy: 0.8547\n",
      "Epoch 2/100\n",
      "1782/1782 [==============================] - 15s 8ms/step - loss: 0.3988 - accuracy: 0.8569 - val_loss: 0.3404 - val_accuracy: 0.8773\n",
      "Epoch 3/100\n",
      "1782/1782 [==============================] - 15s 8ms/step - loss: 0.3570 - accuracy: 0.8724 - val_loss: 0.3342 - val_accuracy: 0.8750\n",
      "Epoch 4/100\n",
      "1782/1782 [==============================] - 16s 9ms/step - loss: 0.3347 - accuracy: 0.8796 - val_loss: 0.2962 - val_accuracy: 0.8890\n",
      "Epoch 5/100\n",
      "1782/1782 [==============================] - 15s 8ms/step - loss: 0.3164 - accuracy: 0.8845 - val_loss: 0.2943 - val_accuracy: 0.8890\n",
      "Epoch 6/100\n",
      "1782/1782 [==============================] - 15s 8ms/step - loss: 0.3025 - accuracy: 0.8895 - val_loss: 0.2670 - val_accuracy: 0.9000\n",
      "Epoch 7/100\n",
      "1782/1782 [==============================] - 15s 8ms/step - loss: 0.2919 - accuracy: 0.8940 - val_loss: 0.2715 - val_accuracy: 0.8987\n",
      "Epoch 8/100\n",
      "1782/1782 [==============================] - 15s 8ms/step - loss: 0.2839 - accuracy: 0.8973 - val_loss: 0.2709 - val_accuracy: 0.9013\n",
      "Epoch 9/100\n",
      "1782/1782 [==============================] - 16s 9ms/step - loss: 0.2776 - accuracy: 0.8988 - val_loss: 0.2676 - val_accuracy: 0.9013\n",
      "Epoch 10/100\n",
      "1782/1782 [==============================] - 16s 9ms/step - loss: 0.2698 - accuracy: 0.9011 - val_loss: 0.2523 - val_accuracy: 0.9020\n",
      "Epoch 11/100\n",
      "1782/1782 [==============================] - 16s 9ms/step - loss: 0.2625 - accuracy: 0.9046 - val_loss: 0.2723 - val_accuracy: 0.9010\n",
      "Epoch 12/100\n",
      "1782/1782 [==============================] - 15s 8ms/step - loss: 0.2601 - accuracy: 0.9053 - val_loss: 0.2581 - val_accuracy: 0.9017\n",
      "Epoch 13/100\n",
      "1782/1782 [==============================] - 16s 9ms/step - loss: 0.2546 - accuracy: 0.9076 - val_loss: 0.2638 - val_accuracy: 0.8987\n",
      "Epoch 14/100\n",
      "1782/1782 [==============================] - 16s 9ms/step - loss: 0.2504 - accuracy: 0.9089 - val_loss: 0.2502 - val_accuracy: 0.9103\n",
      "Epoch 15/100\n",
      "1782/1782 [==============================] - 15s 9ms/step - loss: 0.2445 - accuracy: 0.9091 - val_loss: 0.2435 - val_accuracy: 0.9103\n",
      "Epoch 16/100\n",
      "1782/1782 [==============================] - 15s 9ms/step - loss: 0.2402 - accuracy: 0.9123 - val_loss: 0.2449 - val_accuracy: 0.9077\n",
      "Epoch 17/100\n",
      "1782/1782 [==============================] - 17s 9ms/step - loss: 0.2416 - accuracy: 0.9113 - val_loss: 0.2590 - val_accuracy: 0.9050\n",
      "Epoch 18/100\n",
      "1782/1782 [==============================] - 17s 9ms/step - loss: 0.2371 - accuracy: 0.9122 - val_loss: 0.2476 - val_accuracy: 0.9063\n",
      "Epoch 19/100\n",
      "1782/1782 [==============================] - 18s 10ms/step - loss: 0.2339 - accuracy: 0.9136 - val_loss: 0.2509 - val_accuracy: 0.9070\n",
      "Epoch 20/100\n",
      "1782/1782 [==============================] - 20s 11ms/step - loss: 0.2332 - accuracy: 0.9136 - val_loss: 0.2601 - val_accuracy: 0.9010\n",
      "Epoch 21/100\n",
      "1782/1782 [==============================] - 20s 11ms/step - loss: 0.2308 - accuracy: 0.9167 - val_loss: 0.2387 - val_accuracy: 0.9110\n",
      "Epoch 22/100\n",
      "1782/1782 [==============================] - 20s 11ms/step - loss: 0.2267 - accuracy: 0.9162 - val_loss: 0.2425 - val_accuracy: 0.9120\n",
      "Epoch 23/100\n",
      "1782/1782 [==============================] - 19s 11ms/step - loss: 0.2254 - accuracy: 0.9169 - val_loss: 0.2379 - val_accuracy: 0.9123\n",
      "Epoch 24/100\n",
      "1782/1782 [==============================] - 18s 10ms/step - loss: 0.2215 - accuracy: 0.9198 - val_loss: 0.2405 - val_accuracy: 0.9140\n",
      "Epoch 25/100\n",
      "1782/1782 [==============================] - 19s 11ms/step - loss: 0.2206 - accuracy: 0.9185 - val_loss: 0.2418 - val_accuracy: 0.9110\n",
      "Epoch 26/100\n",
      "1782/1782 [==============================] - 16s 9ms/step - loss: 0.2186 - accuracy: 0.9186 - val_loss: 0.2452 - val_accuracy: 0.9067\n",
      "Epoch 27/100\n",
      "1782/1782 [==============================] - 16s 9ms/step - loss: 0.2180 - accuracy: 0.9183 - val_loss: 0.2355 - val_accuracy: 0.9120\n",
      "Epoch 28/100\n",
      "1782/1782 [==============================] - 16s 9ms/step - loss: 0.2157 - accuracy: 0.9196 - val_loss: 0.2435 - val_accuracy: 0.9103\n",
      "Epoch 29/100\n",
      "1782/1782 [==============================] - 16s 9ms/step - loss: 0.2136 - accuracy: 0.9206 - val_loss: 0.2412 - val_accuracy: 0.9093\n",
      "Epoch 30/100\n",
      "1782/1782 [==============================] - 16s 9ms/step - loss: 0.2140 - accuracy: 0.9208 - val_loss: 0.2506 - val_accuracy: 0.9103\n",
      "Epoch 31/100\n",
      "1782/1782 [==============================] - 16s 9ms/step - loss: 0.2123 - accuracy: 0.9219 - val_loss: 0.2503 - val_accuracy: 0.9120\n",
      "Epoch 32/100\n",
      "1782/1782 [==============================] - 16s 9ms/step - loss: 0.2078 - accuracy: 0.9233 - val_loss: 0.2438 - val_accuracy: 0.9120\n",
      "Epoch 33/100\n",
      "1782/1782 [==============================] - 16s 9ms/step - loss: 0.2082 - accuracy: 0.9223 - val_loss: 0.2453 - val_accuracy: 0.9090\n",
      "Epoch 34/100\n",
      "1782/1782 [==============================] - 16s 9ms/step - loss: 0.2072 - accuracy: 0.9227 - val_loss: 0.2400 - val_accuracy: 0.9147\n",
      "Epoch 35/100\n",
      "1782/1782 [==============================] - 16s 9ms/step - loss: 0.2038 - accuracy: 0.9236 - val_loss: 0.2417 - val_accuracy: 0.9130\n",
      "Epoch 36/100\n",
      "1782/1782 [==============================] - 16s 9ms/step - loss: 0.2035 - accuracy: 0.9242 - val_loss: 0.2469 - val_accuracy: 0.9113\n",
      "Epoch 37/100\n",
      "1782/1782 [==============================] - 16s 9ms/step - loss: 0.2024 - accuracy: 0.9249 - val_loss: 0.2466 - val_accuracy: 0.9127\n",
      "Epoch 38/100\n",
      "1782/1782 [==============================] - 16s 9ms/step - loss: 0.2027 - accuracy: 0.9241 - val_loss: 0.2409 - val_accuracy: 0.9100\n",
      "Epoch 39/100\n",
      "1782/1782 [==============================] - 16s 9ms/step - loss: 0.2002 - accuracy: 0.9263 - val_loss: 0.2369 - val_accuracy: 0.9133\n",
      "Epoch 40/100\n",
      "1782/1782 [==============================] - 17s 9ms/step - loss: 0.2008 - accuracy: 0.9260 - val_loss: 0.2390 - val_accuracy: 0.9167\n",
      "Epoch 41/100\n",
      "1782/1782 [==============================] - 21s 12ms/step - loss: 0.2002 - accuracy: 0.9251 - val_loss: 0.2411 - val_accuracy: 0.9140\n",
      "Epoch 42/100\n",
      "1782/1782 [==============================] - 16s 9ms/step - loss: 0.1970 - accuracy: 0.9262 - val_loss: 0.2466 - val_accuracy: 0.9157\n",
      "Epoch 43/100\n",
      "1782/1782 [==============================] - 16s 9ms/step - loss: 0.1954 - accuracy: 0.9270 - val_loss: 0.2386 - val_accuracy: 0.9140\n",
      "Epoch 44/100\n",
      "1782/1782 [==============================] - 16s 9ms/step - loss: 0.1949 - accuracy: 0.9273 - val_loss: 0.2325 - val_accuracy: 0.9137\n",
      "Epoch 45/100\n",
      "1782/1782 [==============================] - 16s 9ms/step - loss: 0.1925 - accuracy: 0.9280 - val_loss: 0.2438 - val_accuracy: 0.9143\n",
      "Epoch 46/100\n",
      "1782/1782 [==============================] - 16s 9ms/step - loss: 0.1916 - accuracy: 0.9291 - val_loss: 0.2358 - val_accuracy: 0.9147\n",
      "Epoch 47/100\n",
      "1782/1782 [==============================] - 16s 9ms/step - loss: 0.1909 - accuracy: 0.9286 - val_loss: 0.2468 - val_accuracy: 0.9183\n",
      "Epoch 48/100\n",
      "1782/1782 [==============================] - 16s 9ms/step - loss: 0.1918 - accuracy: 0.9284 - val_loss: 0.2395 - val_accuracy: 0.9170\n",
      "Epoch 49/100\n",
      "1782/1782 [==============================] - 16s 9ms/step - loss: 0.1923 - accuracy: 0.9294 - val_loss: 0.2519 - val_accuracy: 0.9110\n",
      "Epoch 50/100\n",
      "1782/1782 [==============================] - 16s 9ms/step - loss: 0.1890 - accuracy: 0.9301 - val_loss: 0.2408 - val_accuracy: 0.9140\n",
      "Epoch 51/100\n",
      "1782/1782 [==============================] - 16s 9ms/step - loss: 0.1888 - accuracy: 0.9300 - val_loss: 0.2516 - val_accuracy: 0.9120\n",
      "Epoch 52/100\n",
      "1782/1782 [==============================] - 16s 9ms/step - loss: 0.1876 - accuracy: 0.9295 - val_loss: 0.2397 - val_accuracy: 0.9187\n",
      "Epoch 53/100\n",
      "1782/1782 [==============================] - 16s 9ms/step - loss: 0.1886 - accuracy: 0.9291 - val_loss: 0.2427 - val_accuracy: 0.9137\n",
      "Epoch 54/100\n",
      "1782/1782 [==============================] - 16s 9ms/step - loss: 0.1869 - accuracy: 0.9305 - val_loss: 0.2529 - val_accuracy: 0.9160\n",
      "Epoch 55/100\n",
      "1782/1782 [==============================] - 16s 9ms/step - loss: 0.1862 - accuracy: 0.9318 - val_loss: 0.2515 - val_accuracy: 0.9143\n",
      "Epoch 56/100\n",
      "1782/1782 [==============================] - 16s 9ms/step - loss: 0.1844 - accuracy: 0.9320 - val_loss: 0.2542 - val_accuracy: 0.9147\n",
      "Epoch 57/100\n",
      "1782/1782 [==============================] - 16s 9ms/step - loss: 0.1836 - accuracy: 0.9308 - val_loss: 0.2676 - val_accuracy: 0.9143\n",
      "Epoch 58/100\n",
      "1782/1782 [==============================] - 16s 9ms/step - loss: 0.1823 - accuracy: 0.9327 - val_loss: 0.2480 - val_accuracy: 0.9143\n",
      "Epoch 59/100\n",
      "1782/1782 [==============================] - 16s 9ms/step - loss: 0.1829 - accuracy: 0.9307 - val_loss: 0.2456 - val_accuracy: 0.9210\n",
      "Epoch 60/100\n",
      "1782/1782 [==============================] - 16s 9ms/step - loss: 0.1813 - accuracy: 0.9318 - val_loss: 0.2474 - val_accuracy: 0.9173\n",
      "Epoch 61/100\n",
      "1782/1782 [==============================] - 16s 9ms/step - loss: 0.1829 - accuracy: 0.9312 - val_loss: 0.2449 - val_accuracy: 0.9150\n",
      "Epoch 62/100\n",
      "1782/1782 [==============================] - 16s 9ms/step - loss: 0.1823 - accuracy: 0.9315 - val_loss: 0.2442 - val_accuracy: 0.9187\n",
      "Epoch 63/100\n",
      "1782/1782 [==============================] - 16s 9ms/step - loss: 0.1799 - accuracy: 0.9334 - val_loss: 0.2411 - val_accuracy: 0.9173\n",
      "Epoch 64/100\n",
      "1782/1782 [==============================] - 16s 9ms/step - loss: 0.1788 - accuracy: 0.9333 - val_loss: 0.2518 - val_accuracy: 0.9133\n",
      "Epoch 65/100\n",
      "1782/1782 [==============================] - 16s 9ms/step - loss: 0.1805 - accuracy: 0.9337 - val_loss: 0.2557 - val_accuracy: 0.9130\n",
      "Epoch 66/100\n",
      "1782/1782 [==============================] - 16s 9ms/step - loss: 0.1776 - accuracy: 0.9338 - val_loss: 0.2518 - val_accuracy: 0.9113\n",
      "Epoch 67/100\n",
      "1782/1782 [==============================] - 16s 9ms/step - loss: 0.1806 - accuracy: 0.9328 - val_loss: 0.2462 - val_accuracy: 0.9167\n",
      "Epoch 68/100\n",
      "1782/1782 [==============================] - 16s 9ms/step - loss: 0.1757 - accuracy: 0.9339 - val_loss: 0.2453 - val_accuracy: 0.9160\n",
      "Epoch 69/100\n",
      "1782/1782 [==============================] - 16s 9ms/step - loss: 0.1768 - accuracy: 0.9338 - val_loss: 0.2690 - val_accuracy: 0.9123\n",
      "Epoch 70/100\n",
      "1782/1782 [==============================] - 16s 9ms/step - loss: 0.1746 - accuracy: 0.9339 - val_loss: 0.2509 - val_accuracy: 0.9127\n",
      "Epoch 71/100\n",
      "1782/1782 [==============================] - 15s 9ms/step - loss: 0.1762 - accuracy: 0.9351 - val_loss: 0.2511 - val_accuracy: 0.9100\n",
      "Epoch 72/100\n",
      "1782/1782 [==============================] - 16s 9ms/step - loss: 0.1770 - accuracy: 0.9335 - val_loss: 0.2547 - val_accuracy: 0.9133\n",
      "Epoch 73/100\n",
      "1782/1782 [==============================] - 16s 9ms/step - loss: 0.1734 - accuracy: 0.9354 - val_loss: 0.2537 - val_accuracy: 0.9180\n",
      "Epoch 74/100\n",
      "1782/1782 [==============================] - 16s 9ms/step - loss: 0.1764 - accuracy: 0.9338 - val_loss: 0.2578 - val_accuracy: 0.9137\n",
      "Epoch 75/100\n",
      "1782/1782 [==============================] - 16s 9ms/step - loss: 0.1742 - accuracy: 0.9349 - val_loss: 0.2518 - val_accuracy: 0.9167\n",
      "Epoch 76/100\n",
      "1782/1782 [==============================] - 16s 9ms/step - loss: 0.1736 - accuracy: 0.9348 - val_loss: 0.2563 - val_accuracy: 0.9140\n",
      "Epoch 77/100\n",
      "1782/1782 [==============================] - 16s 9ms/step - loss: 0.1717 - accuracy: 0.9365 - val_loss: 0.2507 - val_accuracy: 0.9167\n",
      "Epoch 78/100\n",
      "1782/1782 [==============================] - 16s 9ms/step - loss: 0.1717 - accuracy: 0.9364 - val_loss: 0.2622 - val_accuracy: 0.9090\n",
      "Epoch 79/100\n",
      "1782/1782 [==============================] - 16s 9ms/step - loss: 0.1729 - accuracy: 0.9354 - val_loss: 0.2585 - val_accuracy: 0.9157\n",
      "Epoch 80/100\n",
      "1782/1782 [==============================] - 16s 9ms/step - loss: 0.1757 - accuracy: 0.9345 - val_loss: 0.2700 - val_accuracy: 0.9120\n",
      "Epoch 81/100\n",
      "1782/1782 [==============================] - 16s 9ms/step - loss: 0.1719 - accuracy: 0.9357 - val_loss: 0.2658 - val_accuracy: 0.9160\n",
      "Epoch 82/100\n",
      "1782/1782 [==============================] - 16s 9ms/step - loss: 0.1726 - accuracy: 0.9351 - val_loss: 0.2559 - val_accuracy: 0.9100\n",
      "Epoch 83/100\n",
      "1782/1782 [==============================] - 16s 9ms/step - loss: 0.1687 - accuracy: 0.9378 - val_loss: 0.2541 - val_accuracy: 0.9157\n",
      "Epoch 84/100\n",
      "1782/1782 [==============================] - 16s 9ms/step - loss: 0.1707 - accuracy: 0.9375 - val_loss: 0.2540 - val_accuracy: 0.9153\n",
      "Epoch 85/100\n",
      "1782/1782 [==============================] - 16s 9ms/step - loss: 0.1710 - accuracy: 0.9352 - val_loss: 0.2573 - val_accuracy: 0.9123\n",
      "Epoch 86/100\n",
      "1782/1782 [==============================] - 16s 9ms/step - loss: 0.1680 - accuracy: 0.9377 - val_loss: 0.2658 - val_accuracy: 0.9127\n",
      "Epoch 87/100\n",
      "1782/1782 [==============================] - 16s 9ms/step - loss: 0.1694 - accuracy: 0.9375 - val_loss: 0.2598 - val_accuracy: 0.9177\n",
      "Epoch 88/100\n",
      "1782/1782 [==============================] - 16s 9ms/step - loss: 0.1688 - accuracy: 0.9359 - val_loss: 0.2559 - val_accuracy: 0.9213\n",
      "Epoch 89/100\n",
      "1782/1782 [==============================] - 16s 9ms/step - loss: 0.1709 - accuracy: 0.9359 - val_loss: 0.2668 - val_accuracy: 0.9153\n",
      "Epoch 90/100\n",
      "1782/1782 [==============================] - 17s 10ms/step - loss: 0.1689 - accuracy: 0.9371 - val_loss: 0.2721 - val_accuracy: 0.9163\n",
      "Epoch 91/100\n",
      "1782/1782 [==============================] - 18s 10ms/step - loss: 0.1686 - accuracy: 0.9366 - val_loss: 0.2585 - val_accuracy: 0.9150\n",
      "Epoch 92/100\n",
      "1782/1782 [==============================] - 18s 10ms/step - loss: 0.1687 - accuracy: 0.9374 - val_loss: 0.2541 - val_accuracy: 0.9167\n",
      "Epoch 93/100\n",
      "1782/1782 [==============================] - 18s 10ms/step - loss: 0.1663 - accuracy: 0.9378 - val_loss: 0.2617 - val_accuracy: 0.9173\n",
      "Epoch 94/100\n",
      "1782/1782 [==============================] - 18s 10ms/step - loss: 0.1693 - accuracy: 0.9366 - val_loss: 0.2659 - val_accuracy: 0.9150\n",
      "Epoch 95/100\n",
      "1782/1782 [==============================] - 18s 10ms/step - loss: 0.1677 - accuracy: 0.9366 - val_loss: 0.2648 - val_accuracy: 0.9167\n",
      "Epoch 96/100\n",
      "1782/1782 [==============================] - 18s 10ms/step - loss: 0.1661 - accuracy: 0.9385 - val_loss: 0.2741 - val_accuracy: 0.9117\n",
      "Epoch 97/100\n",
      "1782/1782 [==============================] - 18s 10ms/step - loss: 0.1654 - accuracy: 0.9385 - val_loss: 0.2679 - val_accuracy: 0.9093\n",
      "Epoch 98/100\n",
      "1782/1782 [==============================] - 18s 10ms/step - loss: 0.1676 - accuracy: 0.9385 - val_loss: 0.2497 - val_accuracy: 0.9173\n",
      "Epoch 99/100\n",
      "1782/1782 [==============================] - 18s 10ms/step - loss: 0.1639 - accuracy: 0.9390 - val_loss: 0.2808 - val_accuracy: 0.9040\n",
      "Epoch 100/100\n",
      "1782/1782 [==============================] - 18s 10ms/step - loss: 0.1671 - accuracy: 0.9377 - val_loss: 0.2639 - val_accuracy: 0.9150\n"
     ]
    }
   ],
   "source": [
    "# epochs 100 batch size 32\n",
    "# adam optimizer used for robustness to noisy graidents.\n",
    "model2.compile(loss='sparse_categorical_crossentropy',\n",
    "              optimizer='adam',\n",
    "              metrics=['accuracy'])\n",
    "              \n",
    "model2.fit(X_train, y_train, epochs=100, batch_size=32, validation_split=0.05)"
   ]
  },
  {
   "cell_type": "code",
   "execution_count": 11,
   "metadata": {},
   "outputs": [
    {
     "name": "stdout",
     "output_type": "stream",
     "text": [
      "313/313 [==============================] - 1s 3ms/step\n"
     ]
    }
   ],
   "source": [
    "logits1 = model1.predict(X_test, batch_size=32)"
   ]
  },
  {
   "cell_type": "code",
   "execution_count": 28,
   "metadata": {},
   "outputs": [
    {
     "name": "stdout",
     "output_type": "stream",
     "text": [
      "classification report sklearn:\n",
      "              precision    recall  f1-score   support\n",
      "\n",
      " T-shirt/top       0.81      0.91      0.86      1000\n",
      "     Trouser       0.99      0.99      0.99      1000\n",
      "    Pullover       0.85      0.91      0.88      1000\n",
      "       Dress       0.93      0.93      0.93      1000\n",
      "        Coat       0.90      0.87      0.88      1000\n",
      "      Sandal       0.99      0.97      0.98      1000\n",
      "       Shirt       0.81      0.68      0.74      1000\n",
      "     Sneaker       0.96      0.97      0.96      1000\n",
      "         Bag       0.99      0.98      0.99      1000\n",
      "  Ankle boot       0.96      0.97      0.97      1000\n",
      "\n",
      "    accuracy                           0.92     10000\n",
      "   macro avg       0.92      0.92      0.92     10000\n",
      "weighted avg       0.92      0.92      0.92     10000\n",
      "\n"
     ]
    }
   ],
   "source": [
    "classes=['T-shirt/top','Trouser','Pullover','Dress','Coat','Sandal','Shirt','Sneaker','Bag','Ankle boot']\n",
    "y_predict1 = np.argmax(logits1, axis=1)\n",
    "print(\n",
    "    classification_report(\n",
    "        y_test, y_predict1, target_names=classes\n",
    "    )\n",
    ")"
   ]
  },
  {
   "cell_type": "code",
   "execution_count": 41,
   "metadata": {},
   "outputs": [
    {
     "data": {
      "text/html": [
       "<div>\n",
       "<style scoped>\n",
       "    .dataframe tbody tr th:only-of-type {\n",
       "        vertical-align: middle;\n",
       "    }\n",
       "\n",
       "    .dataframe tbody tr th {\n",
       "        vertical-align: top;\n",
       "    }\n",
       "\n",
       "    .dataframe thead th {\n",
       "        text-align: right;\n",
       "    }\n",
       "</style>\n",
       "<table border=\"1\" class=\"dataframe\">\n",
       "  <thead>\n",
       "    <tr style=\"text-align: right;\">\n",
       "      <th></th>\n",
       "      <th>Accuracy_Train</th>\n",
       "      <th>Accuracy_Test</th>\n",
       "      <th>F1_Score_Test</th>\n",
       "      <th>Time(minutes)</th>\n",
       "    </tr>\n",
       "  </thead>\n",
       "  <tbody>\n",
       "    <tr>\n",
       "      <th>0</th>\n",
       "      <td>0.926</td>\n",
       "      <td>0.9188</td>\n",
       "      <td>0.917825</td>\n",
       "      <td>10</td>\n",
       "    </tr>\n",
       "  </tbody>\n",
       "</table>\n",
       "</div>"
      ],
      "text/plain": [
       "   Accuracy_Train  Accuracy_Test  F1_Score_Test  Time(minutes)\n",
       "0           0.926         0.9188       0.917825             10"
      ]
     },
     "execution_count": 41,
     "metadata": {},
     "output_type": "execute_result"
    }
   ],
   "source": [
    "TestingAccuracy = accuracy_score(y_test, y_predict1)\n",
    "f1Test = f1_score(y_test, y_predict1, average='weighted')\n",
    "\n",
    "Scores = pd.DataFrame({\n",
    "    'Accuracy_Train':[0.9260],\n",
    "    'Accuracy_Test': [TestingAccuracy],\n",
    "    'F1_Score_Test': [f1Test],\n",
    "    'Time(minutes)':[10]\n",
    "})\n",
    "Scores"
   ]
  },
  {
   "cell_type": "code",
   "execution_count": 31,
   "metadata": {},
   "outputs": [
    {
     "name": "stdout",
     "output_type": "stream",
     "text": [
      "313/313 [==============================] - 2s 4ms/step\n"
     ]
    }
   ],
   "source": [
    "logits2 = model2.predict(X_test, batch_size=32)"
   ]
  },
  {
   "cell_type": "code",
   "execution_count": 32,
   "metadata": {},
   "outputs": [],
   "source": [
    "y_predict2 = np.argmax(logits2, axis=1)\n"
   ]
  },
  {
   "cell_type": "code",
   "execution_count": 40,
   "metadata": {},
   "outputs": [
    {
     "data": {
      "text/html": [
       "<div>\n",
       "<style scoped>\n",
       "    .dataframe tbody tr th:only-of-type {\n",
       "        vertical-align: middle;\n",
       "    }\n",
       "\n",
       "    .dataframe tbody tr th {\n",
       "        vertical-align: top;\n",
       "    }\n",
       "\n",
       "    .dataframe thead th {\n",
       "        text-align: right;\n",
       "    }\n",
       "</style>\n",
       "<table border=\"1\" class=\"dataframe\">\n",
       "  <thead>\n",
       "    <tr style=\"text-align: right;\">\n",
       "      <th></th>\n",
       "      <th>Accuracy_Train</th>\n",
       "      <th>Accuracy_Test</th>\n",
       "      <th>F1_Score_Test</th>\n",
       "      <th>Time(minutes)</th>\n",
       "    </tr>\n",
       "  </thead>\n",
       "  <tbody>\n",
       "    <tr>\n",
       "      <th>0</th>\n",
       "      <td>0.9377</td>\n",
       "      <td>0.9179</td>\n",
       "      <td>0.91831</td>\n",
       "      <td>27</td>\n",
       "    </tr>\n",
       "  </tbody>\n",
       "</table>\n",
       "</div>"
      ],
      "text/plain": [
       "   Accuracy_Train  Accuracy_Test  F1_Score_Test  Time(minutes)\n",
       "0          0.9377         0.9179        0.91831             27"
      ]
     },
     "execution_count": 40,
     "metadata": {},
     "output_type": "execute_result"
    }
   ],
   "source": [
    "TestingAccuracy = accuracy_score(y_test, y_predict2)\n",
    "f1Test = f1_score(y_test, y_predict2, average='weighted')\n",
    "Classfication = classification_report(y_test, y_predict2)\n",
    "\n",
    "Scores = pd.DataFrame({\n",
    "    'Accuracy_Train':[0.9377],\n",
    "    'Accuracy_Test': [TestingAccuracy],\n",
    "    'F1_Score_Test': [f1Test],\n",
    "    'Time(minutes)':[27]\n",
    "})\n",
    "Scores"
   ]
  },
  {
   "cell_type": "markdown",
   "metadata": {},
   "source": [
    "STEP 8: Visualizing using the Confusion Matrix."
   ]
  },
  {
   "cell_type": "code",
   "execution_count": 35,
   "metadata": {},
   "outputs": [
    {
     "data": {
      "image/png": "[encoded data removed]",
      "text/plain": [
       "<Figure size 600x600 with 1 Axes>"
      ]
     },
     "metadata": {},
     "output_type": "display_data"
    }
   ],
   "source": [
    "cm = confusion_matrix(y_test, y_predict1)\n",
    "plt.figure(figsize=(6, 6))\n",
    "sns.heatmap(cm, annot=True, fmt=\"d\", cmap=\"Reds\", cbar=False)\n",
    "plt.title('Confusion Matrix')\n",
    "plt.xlabel('Prediction')\n",
    "plt.ylabel('Actual')\n",
    "plt.show()"
   ]
  },
  {
   "cell_type": "code",
   "execution_count": 36,
   "metadata": {},
   "outputs": [
    {
     "data": {
      "image/png": "[encoded data removed]",
      "text/plain": [
       "<Figure size 600x600 with 1 Axes>"
      ]
     },
     "metadata": {},
     "output_type": "display_data"
    }
   ],
   "source": [
    "cm = confusion_matrix(y_test, y_predict2)\n",
    "plt.figure(figsize=(6, 6))\n",
    "sns.heatmap(cm, annot=True, fmt=\"d\", cmap=\"Reds\", cbar=False)\n",
    "plt.title('Confusion Matrix')\n",
    "plt.xlabel('Prediction')\n",
    "plt.ylabel('Actual')\n",
    "plt.show()"
   ]
  }
 ],
 "metadata": {
  "kernelspec": {
   "display_name": "CS4120",
   "language": "python",
   "name": "python3"
  },
  "language_info": {
   "codemirror_mode": {
    "name": "ipython",
    "version": 3
   },
   "file_extension": ".py",
   "mimetype": "text/x-python",
   "name": "python",
   "nbconvert_exporter": "python",
   "pygments_lexer": "ipython3",
   "version": "3.11.5"
  }
 },
 "nbformat": 4,
 "nbformat_minor": 2
}
